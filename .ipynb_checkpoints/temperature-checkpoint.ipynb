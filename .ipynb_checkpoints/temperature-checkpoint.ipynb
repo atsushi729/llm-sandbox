{
 "cells": [
  {
   "cell_type": "code",
   "execution_count": null,
   "id": "ae02e97b-a2f6-4a37-a81d-014e42c128a8",
   "metadata": {},
   "outputs": [],
   "source": [
    "import numpy as np\n",
    "import matplotlib.pyplot as plt\n",
    "import pandas as pd\n",
    "import seaborn as sns\n",
    "\n",
    "# 単語とその元のロジット（スコア）を定義\n",
    "tokens = [\"apple\", \"banana\", \"cherry\", \"date\", \"elderberry\"]\n",
    "logits = np.array([3.0, 2.5, 2.0, 1.0, 0.5])  # 仮のロジットスコア（高いほど選ばれやすい）\n",
    "\n",
    "# temperatureの異なる設定でsoftmax確率を計算\n",
    "temperatures = [0.5, 1.0, 2.0]\n",
    "probability_distributions = {}\n",
    "\n",
    "def softmax(logits, temperature):\n",
    "    adjusted_logits = logits / temperature\n",
    "    exp_logits = np.exp(adjusted_logits - np.max(adjusted_logits))  # 安定化\n",
    "    return exp_logits / np.sum(exp_logits)\n",
    "\n",
    "# 各temperatureに対してsoftmax確率を計算\n",
    "for temp in temperatures:\n",
    "    probs = softmax(logits, temp)\n",
    "    probability_distributions[f\"Temp={temp}\"] = probs\n",
    "\n",
    "# データフレームにまとめて可視化\n",
    "df = pd.DataFrame(probability_distributions, index=tokens)\n",
    "df = df.reset_index().melt(id_vars=\"index\", var_name=\"Temperature\", value_name=\"Probability\")\n",
    "df.rename(columns={\"index\": \"Token\"}, inplace=True)\n",
    "\n",
    "# グラフを描画\n",
    "plt.figure(figsize=(10, 6))\n",
    "sns.barplot(data=df, x=\"Token\", y=\"Probability\", hue=\"Temperature\")\n",
    "plt.title(\"Softmax Probabilities by Temperature for Next Token Prediction\")\n",
    "plt.ylabel(\"Probability\")\n",
    "plt.xlabel(\"Token\")\n",
    "plt.ylim(0, 1)\n",
    "plt.legend(title=\"Temperature\")\n",
    "plt.grid(axis=\"y\")\n",
    "plt.tight_layout()\n",
    "plt.show()\n"
   ]
  }
 ],
 "metadata": {
  "kernelspec": {
   "display_name": "Python 3 (ipykernel)",
   "language": "python",
   "name": "python3"
  },
  "language_info": {
   "codemirror_mode": {
    "name": "ipython",
    "version": 3
   },
   "file_extension": ".py",
   "mimetype": "text/x-python",
   "name": "python",
   "nbconvert_exporter": "python",
   "pygments_lexer": "ipython3",
   "version": "3.9.6"
  }
 },
 "nbformat": 4,
 "nbformat_minor": 5
}
